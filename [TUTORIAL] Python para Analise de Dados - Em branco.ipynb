{
 "cells": [
  {
   "cell_type": "markdown",
   "id": "916584b2",
   "metadata": {},
   "source": [
    "# [TUTORIAL] O CURSO de Python do ZERO para INICIANTES - Análise de Dados com Pandas e Numpy"
   ]
  },
  {
   "cell_type": "markdown",
   "id": "d87d42af",
   "metadata": {},
   "source": [
    "## Introdução ao Python\n",
    "\n",
    "### Conceitos Básicos de Python"
   ]
  },
  {
   "cell_type": "code",
   "execution_count": 1,
   "id": "c2062d9f",
   "metadata": {},
   "outputs": [],
   "source": [
    "# Variáveis e Tipos de Dados\n",
    "\n",
    "# Exemplo de variáveis"
   ]
  },
  {
   "cell_type": "code",
   "execution_count": 2,
   "id": "7c4b826a",
   "metadata": {},
   "outputs": [],
   "source": [
    "# Tipo da variável"
   ]
  },
  {
   "cell_type": "code",
   "execution_count": 3,
   "id": "89691b2e",
   "metadata": {},
   "outputs": [],
   "source": [
    "# Operações Matemáticas Básicas"
   ]
  },
  {
   "cell_type": "code",
   "execution_count": 4,
   "id": "b36e8108",
   "metadata": {},
   "outputs": [],
   "source": [
    "#Estruturas de Controle de Fluxo\n",
    "#As estruturas de controle, como condicionais e loops, permitem que o programa tome decisões e repita tarefas.\n",
    "\n",
    "# Exemplo de condicional"
   ]
  },
  {
   "cell_type": "code",
   "execution_count": 5,
   "id": "527d68f1",
   "metadata": {},
   "outputs": [],
   "source": [
    "# A estrutura de repetição for é usada para iterar (ou percorrer) uma sequência de valores, como uma lista, \n",
    "# uma série de números ou até mesmo caracteres em uma string. O valor da variável i (ou qualquer outro nome \n",
    "# que você escolher) muda a cada iteração, percorrendo os valores na sequência."
   ]
  },
  {
   "cell_type": "code",
   "execution_count": 6,
   "id": "eeacd85a",
   "metadata": {},
   "outputs": [],
   "source": [
    "# Listas e Loops\n",
    "\n",
    "# Exemplo de lista"
   ]
  },
  {
   "cell_type": "code",
   "execution_count": 7,
   "id": "9bdfee1c",
   "metadata": {},
   "outputs": [],
   "source": [
    "# Loop através de uma lista"
   ]
  },
  {
   "cell_type": "code",
   "execution_count": 8,
   "id": "427f6c18",
   "metadata": {},
   "outputs": [],
   "source": [
    "# Funções\n",
    "# Funções são blocos de código que podem ser reutilizados para executar tarefas específicas.\n",
    "\n",
    "# Exemplo de função"
   ]
  },
  {
   "cell_type": "code",
   "execution_count": 9,
   "id": "1156328a",
   "metadata": {},
   "outputs": [],
   "source": [
    "# Exemplo de função 2"
   ]
  },
  {
   "cell_type": "markdown",
   "id": "c13f7bf6",
   "metadata": {},
   "source": [
    "-------------------"
   ]
  },
  {
   "cell_type": "markdown",
   "id": "b359858e",
   "metadata": {},
   "source": [
    "## Manipulação de Dados com Pandas e Numpy"
   ]
  },
  {
   "cell_type": "markdown",
   "id": "61e4ba71",
   "metadata": {},
   "source": [
    "### Introdução ao NumPy\n",
    "\n",
    "**NumPy** é uma biblioteca fundamental para programação numérica em Python. Ela fornece estruturas de dados e funções que tornam mais fácil trabalhar com números, matrizes e cálculos matemáticos. NumPy é amplamente utilizado em ciência de dados, análise estatística e engenharia.\n",
    "\n",
    "Imagine que você está lidando com várias quantidades numéricas, como idades, alturas e pesos de pessoas. NumPy permite que você organize esses números em arrays (matrizes) e realize operações matemáticas neles de forma eficiente. Por exemplo, você pode somar, subtrair, multiplicar e dividir arrays, calcular médias, desvios padrão e muito mais."
   ]
  },
  {
   "cell_type": "code",
   "execution_count": 10,
   "id": "6d0c29f7",
   "metadata": {},
   "outputs": [],
   "source": [
    "#Importando biblioteca"
   ]
  },
  {
   "cell_type": "code",
   "execution_count": 11,
   "id": "1fc75e0e",
   "metadata": {},
   "outputs": [],
   "source": [
    "# Criando uma Matrix"
   ]
  },
  {
   "cell_type": "code",
   "execution_count": 12,
   "id": "8eb0352f",
   "metadata": {},
   "outputs": [],
   "source": [
    "# Operações Matematicas\n",
    "# Multiplicação"
   ]
  },
  {
   "cell_type": "code",
   "execution_count": 13,
   "id": "9c4a6c4c",
   "metadata": {},
   "outputs": [],
   "source": [
    "# Soma"
   ]
  },
  {
   "cell_type": "code",
   "execution_count": 14,
   "id": "02e8bbb2",
   "metadata": {},
   "outputs": [],
   "source": [
    "# Média"
   ]
  },
  {
   "cell_type": "markdown",
   "id": "8324d230",
   "metadata": {},
   "source": [
    "------------------"
   ]
  },
  {
   "cell_type": "markdown",
   "id": "521a4629",
   "metadata": {},
   "source": [
    "### Pandas:\n",
    "\n",
    "**Pandas** é uma biblioteca construída sobre o NumPy que simplifica a manipulação e análise de dados tabulares (dados organizados em tabelas) de uma forma mais amigável. Ela fornece as estruturas de dados DataFrame e Series, que são muito úteis para lidar com dados do mundo real, como tabelas de Excel ou bancos de dados.\n",
    "\n",
    "Imagine que você tem um conjunto de dados com informações sobre pessoas, incluindo nomes, idades e cidades. Pandas permite que \n",
    "você carregue esses dados em um DataFrame, que é como uma tabela flexível, e então você pode filtrar, ordenar, agrupar e analisar esses dados de maneira poderosa e fácil."
   ]
  },
  {
   "cell_type": "code",
   "execution_count": 15,
   "id": "2f0e8415",
   "metadata": {},
   "outputs": [],
   "source": [
    "# Importando Bibliotecas"
   ]
  },
  {
   "cell_type": "code",
   "execution_count": 16,
   "id": "aa3883ec",
   "metadata": {},
   "outputs": [],
   "source": [
    "# Carregar dados de um arquivo csv"
   ]
  },
  {
   "cell_type": "code",
   "execution_count": 17,
   "id": "34864ab7",
   "metadata": {
    "scrolled": false
   },
   "outputs": [],
   "source": [
    "# Visualizar as primeiras linhas"
   ]
  },
  {
   "cell_type": "code",
   "execution_count": 18,
   "id": "eefa87c1",
   "metadata": {},
   "outputs": [],
   "source": [
    "# Visualizar as últimas linhas"
   ]
  },
  {
   "cell_type": "code",
   "execution_count": 19,
   "id": "aff04d80",
   "metadata": {},
   "outputs": [],
   "source": [
    "# Visualizar linhas aleatórias"
   ]
  },
  {
   "cell_type": "code",
   "execution_count": 20,
   "id": "75d8999a",
   "metadata": {},
   "outputs": [],
   "source": [
    "# Obter informações sobre as colunas"
   ]
  },
  {
   "cell_type": "code",
   "execution_count": 21,
   "id": "579a271c",
   "metadata": {},
   "outputs": [],
   "source": [
    "# Estatísticas descritivas das colunas numéricas"
   ]
  },
  {
   "cell_type": "code",
   "execution_count": 22,
   "id": "e6d2ae7a",
   "metadata": {},
   "outputs": [],
   "source": [
    "# Convertendo o formato da coluna"
   ]
  },
  {
   "cell_type": "code",
   "execution_count": 23,
   "id": "f7d022e5",
   "metadata": {
    "scrolled": true
   },
   "outputs": [],
   "source": [
    "# Checando o tipo das colunas"
   ]
  },
  {
   "cell_type": "code",
   "execution_count": 24,
   "id": "6861b642",
   "metadata": {},
   "outputs": [],
   "source": [
    "# Convertendo o formato de mais de uma coluna ao mesmo tempo\n",
    "# Nome das colunas"
   ]
  },
  {
   "cell_type": "code",
   "execution_count": 25,
   "id": "fc842367",
   "metadata": {},
   "outputs": [],
   "source": [
    "# Visualizar Linha especifica"
   ]
  },
  {
   "cell_type": "code",
   "execution_count": 26,
   "id": "1a27400c",
   "metadata": {},
   "outputs": [],
   "source": [
    "# Visualizar uma ou mais colunas especifica"
   ]
  },
  {
   "cell_type": "code",
   "execution_count": 27,
   "id": "fd1bdc3f",
   "metadata": {},
   "outputs": [],
   "source": [
    "# Renomear colunas"
   ]
  },
  {
   "cell_type": "code",
   "execution_count": 28,
   "id": "4e75a449",
   "metadata": {},
   "outputs": [],
   "source": [
    "# Operacoes max(), mix(), mean(), sum(), unique(), value_counts() "
   ]
  },
  {
   "cell_type": "code",
   "execution_count": 29,
   "id": "8662981f",
   "metadata": {
    "scrolled": true
   },
   "outputs": [],
   "source": [
    "# Ordenar df com base em uma coluna"
   ]
  },
  {
   "cell_type": "code",
   "execution_count": 30,
   "id": "3d9184d4",
   "metadata": {},
   "outputs": [],
   "source": [
    "# filtrar coluna com base em valor e condicionais"
   ]
  },
  {
   "cell_type": "code",
   "execution_count": 31,
   "id": "520f4f68",
   "metadata": {},
   "outputs": [],
   "source": [
    "# verificar valores nulos (em branco)"
   ]
  },
  {
   "cell_type": "code",
   "execution_count": 32,
   "id": "e1247fc1",
   "metadata": {},
   "outputs": [],
   "source": [
    "# filtrar linhas em branco"
   ]
  },
  {
   "cell_type": "code",
   "execution_count": 33,
   "id": "ee23b8fe",
   "metadata": {},
   "outputs": [],
   "source": [
    "# deletar linhas em branco"
   ]
  },
  {
   "cell_type": "code",
   "execution_count": 34,
   "id": "cc7e4d49",
   "metadata": {},
   "outputs": [],
   "source": [
    "# preencher valores em branco com outros valores"
   ]
  },
  {
   "cell_type": "code",
   "execution_count": 35,
   "id": "3ab615b3",
   "metadata": {},
   "outputs": [],
   "source": [
    "# Agrupar valores selecionados"
   ]
  },
  {
   "cell_type": "code",
   "execution_count": 36,
   "id": "f8221f46",
   "metadata": {},
   "outputs": [],
   "source": [
    "# tabela dinamica"
   ]
  },
  {
   "cell_type": "markdown",
   "id": "cca4baf6",
   "metadata": {},
   "source": [
    "### Junção de Bases de Dados usando Merge (left, right, outer)\n",
    "A junção (merge) é uma operação importante quando você precisa combinar informações de diferentes bases de dados. Vamos explorar os tipos de junção: left, right e outer.\n",
    "\n",
    "<img src=\"join-types-merge-names.jpg\" style=\"width:200px,height:400px\">\n",
    "\n",
    "\n",
    "1. **Inner Join (Junção Interna):**\n",
    "   - Imagine que você tem duas listas de funcionários, uma com nomes e outra com salários. Se você quiser obter uma lista apenas dos funcionários que têm informações completas em ambas as listas, use um \"inner join\". Isso removerá os funcionários que não estão presentes em ambas as listas.\n",
    "   \n",
    "2. **Left Join (Junção à Esquerda):**\n",
    "   - Suponha que você tem uma lista de alunos e outra de notas dos exames. Se você deseja ver todos os alunos da lista, juntamente com suas notas (se disponíveis), use um \"left join\". Isso manterá todos os alunos da primeira lista e trará as notas correspondentes, se existirem.\n",
    "\n",
    "3. **Right Join (Junção à Direita):**\n",
    "   - Imagine que você tem uma lista de produtos e outra de vendas. Se você quiser ver todos os produtos vendidos, juntamente com as informações dos produtos (se disponíveis), use um \"right join\". Isso manterá todas as vendas da segunda lista e trará as informações dos produtos correspondentes, se existirem.\n",
    "\n",
    "4. **Outer Join (Junção Externa):**\n",
    "   - Se você deseja ver todos os registros de ambas as tabelas, independentemente de haver correspondência entre elas ou não, use um \"outer join\". Isso trará todos os dados de ambas as tabelas e preencherá com valores nulos onde não houver correspondência.\n"
   ]
  },
  {
   "cell_type": "code",
   "execution_count": 37,
   "id": "bac4d7b2",
   "metadata": {},
   "outputs": [],
   "source": [
    "# Importando outras bases de dados"
   ]
  },
  {
   "cell_type": "code",
   "execution_count": 38,
   "id": "723fa6ef",
   "metadata": {},
   "outputs": [],
   "source": [
    "# Visualizando dados das novas bases"
   ]
  },
  {
   "cell_type": "code",
   "execution_count": 39,
   "id": "b66ccbbd",
   "metadata": {},
   "outputs": [],
   "source": [
    "# Mudar tipo da coluna "
   ]
  },
  {
   "cell_type": "code",
   "execution_count": 40,
   "id": "a10d1f26",
   "metadata": {},
   "outputs": [],
   "source": [
    "# Mesclando usando left join"
   ]
  },
  {
   "cell_type": "code",
   "execution_count": 41,
   "id": "cd5950d4",
   "metadata": {},
   "outputs": [],
   "source": [
    "# deletando colunas desnecessárias"
   ]
  },
  {
   "cell_type": "code",
   "execution_count": 42,
   "id": "8eb83b96",
   "metadata": {},
   "outputs": [],
   "source": [
    "# Reordenando colunas"
   ]
  },
  {
   "cell_type": "code",
   "execution_count": 43,
   "id": "997b7200",
   "metadata": {},
   "outputs": [],
   "source": [
    "# Criar nova colunas a partir de outros valores"
   ]
  },
  {
   "cell_type": "code",
   "execution_count": 44,
   "id": "b6ae394f",
   "metadata": {},
   "outputs": [],
   "source": [
    "# Agrupando por colunas (e arrendondar valor)"
   ]
  },
  {
   "cell_type": "code",
   "execution_count": 45,
   "id": "89196841",
   "metadata": {
    "scrolled": true
   },
   "outputs": [],
   "source": [
    "# Tabela dinamica "
   ]
  },
  {
   "cell_type": "markdown",
   "id": "a8ec6de8",
   "metadata": {},
   "source": [
    "# Spoiler do próximo Tutorial\n",
    "\n",
    "## Visualização de Gráficos com Seaborn"
   ]
  },
  {
   "cell_type": "code",
   "execution_count": null,
   "id": "0136781b",
   "metadata": {},
   "outputs": [],
   "source": []
  },
  {
   "cell_type": "markdown",
   "id": "b026a5e9",
   "metadata": {},
   "source": [
    "# Nos vemos na próxima aula :)"
   ]
  },
  {
   "cell_type": "code",
   "execution_count": null,
   "id": "17687c3d",
   "metadata": {},
   "outputs": [],
   "source": []
  },
  {
   "cell_type": "code",
   "execution_count": null,
   "id": "e233b7d0",
   "metadata": {},
   "outputs": [],
   "source": []
  }
 ],
 "metadata": {
  "kernelspec": {
   "display_name": "Python 3 (ipykernel)",
   "language": "python",
   "name": "python3"
  },
  "language_info": {
   "codemirror_mode": {
    "name": "ipython",
    "version": 3
   },
   "file_extension": ".py",
   "mimetype": "text/x-python",
   "name": "python",
   "nbconvert_exporter": "python",
   "pygments_lexer": "ipython3",
   "version": "3.9.7"
  }
 },
 "nbformat": 4,
 "nbformat_minor": 5
}
